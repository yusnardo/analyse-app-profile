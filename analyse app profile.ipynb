{
 "cells": [
  {
   "cell_type": "markdown",
   "metadata": {},
   "source": [
    "# Analyse App Profiles for the App Store and Google Play Markets\n",
    "-----------------\n",
    "**Purpose**\n",
    "<div style='text-align: justify;'>\n",
    "- to find mobile app profiles that are profitable for the App Store and Google Play markets.\n",
    "</div>\n",
    "<div style='text-align: justify;'>\n",
    "- Our goal for this project is to analyze data to help our developers understand what kinds of apps are likely to attract more users. We use English for the apps we develop at our company, and we'd like to analyze only the apps that are directed toward an English-speaking audience.\n",
    "</div>\n",
    "\n",
    "**Data Description**<br>\n",
    "<div style='text-align: justify;'>\n",
    "    As of September 2018, there were approximately 2 million iOS apps available on the App Store, and 2.1 million Android apps on Google Play.\n",
    "    Collecting data for over four million apps requires a significant amount of time and money, so we'll try to analyze a sample of data instead. To avoid spending resources with collecting new data ourselves, we should first try to see whether we can find any relevant existing data at no cost\n",
    "</div>"
   ]
  },
  {
   "cell_type": "code",
   "execution_count": 1,
   "metadata": {
    "collapsed": true
   },
   "outputs": [],
   "source": [
    "# Library Space\n",
    "import pandas as pd\n",
    "import numpy as np\n",
    "from csv import reader"
   ]
  },
  {
   "cell_type": "code",
   "execution_count": 2,
   "metadata": {
    "collapsed": true
   },
   "outputs": [],
   "source": [
    "# Function Space\n",
    "def explore_data(dataset, start, end, rows_and_columns=False):\n",
    "    dataset_slice = dataset[start:end]    \n",
    "    for row in dataset_slice:\n",
    "        print(row)\n",
    "        print('\\n') # adds a new (empty) line after each row\n",
    "\n",
    "    if rows_and_columns:\n",
    "        print('Number of rows:', len(dataset))\n",
    "        print('Number of columns:', len(dataset[0]))"
   ]
  },
  {
   "cell_type": "code",
   "execution_count": 3,
   "metadata": {},
   "outputs": [],
   "source": [
    "# Google Play Store\n",
    "opened_file = open('googleplaystore.csv')\n",
    "read_file = reader(opened_file)\n",
    "android = list(read_file)\n",
    "android_header = android[0]\n",
    "android = android[1:]\n",
    "\n",
    "# App Store\n",
    "opened_file = open('AppleStore.csv')\n",
    "read_file = reader(opened_file)\n",
    "ios = list(read_file)\n",
    "ios_header = ios[0]\n",
    "ios = ios[1:]"
   ]
  },
  {
   "cell_type": "code",
   "execution_count": 4,
   "metadata": {},
   "outputs": [
    {
     "data": {
      "text/plain": [
       "['App',\n",
       " 'Category',\n",
       " 'Rating',\n",
       " 'Reviews',\n",
       " 'Size',\n",
       " 'Installs',\n",
       " 'Type',\n",
       " 'Price',\n",
       " 'Content Rating',\n",
       " 'Genres',\n",
       " 'Last Updated',\n",
       " 'Current Ver',\n",
       " 'Android Ver']"
      ]
     },
     "execution_count": 4,
     "metadata": {},
     "output_type": "execute_result"
    }
   ],
   "source": [
    "android_header"
   ]
  },
  {
   "cell_type": "code",
   "execution_count": 5,
   "metadata": {},
   "outputs": [
    {
     "data": {
      "text/plain": [
       "['id',\n",
       " 'track_name',\n",
       " 'size_bytes',\n",
       " 'currency',\n",
       " 'price',\n",
       " 'rating_count_tot',\n",
       " 'rating_count_ver',\n",
       " 'user_rating',\n",
       " 'user_rating_ver',\n",
       " 'ver',\n",
       " 'cont_rating',\n",
       " 'prime_genre',\n",
       " 'sup_devices.num',\n",
       " 'ipadSc_urls.num',\n",
       " 'lang.num',\n",
       " 'vpp_lic']"
      ]
     },
     "execution_count": 5,
     "metadata": {},
     "output_type": "execute_result"
    }
   ],
   "source": [
    "ios_header"
   ]
  },
  {
   "cell_type": "code",
   "execution_count": 6,
   "metadata": {},
   "outputs": [
    {
     "name": "stdout",
     "output_type": "stream",
     "text": [
      "['Photo Editor & Candy Camera & Grid & ScrapBook', 'ART_AND_DESIGN', '4.1', '159', '19M', '10,000+', 'Free', '0', 'Everyone', 'Art & Design', 'January 7, 2018', '1.0.0', '4.0.3 and up']\n",
      "\n",
      "\n",
      "['Coloring book moana', 'ART_AND_DESIGN', '3.9', '967', '14M', '500,000+', 'Free', '0', 'Everyone', 'Art & Design;Pretend Play', 'January 15, 2018', '2.0.0', '4.0.3 and up']\n",
      "\n",
      "\n",
      "['U Launcher Lite – FREE Live Cool Themes, Hide Apps', 'ART_AND_DESIGN', '4.7', '87510', '8.7M', '5,000,000+', 'Free', '0', 'Everyone', 'Art & Design', 'August 1, 2018', '1.2.4', '4.0.3 and up']\n",
      "\n",
      "\n",
      "Number of rows: 10841\n",
      "Number of columns: 13\n"
     ]
    }
   ],
   "source": [
    "explore_data(android, 0, 3, True)"
   ]
  },
  {
   "cell_type": "code",
   "execution_count": 7,
   "metadata": {},
   "outputs": [
    {
     "name": "stdout",
     "output_type": "stream",
     "text": [
      "['284882215', 'Facebook', '389879808', 'USD', '0.0', '2974676', '212', '3.5', '3.5', '95.0', '4+', 'Social Networking', '37', '1', '29', '1']\n",
      "\n",
      "\n",
      "['389801252', 'Instagram', '113954816', 'USD', '0.0', '2161558', '1289', '4.5', '4.0', '10.23', '12+', 'Photo & Video', '37', '0', '29', '1']\n",
      "\n",
      "\n",
      "['529479190', 'Clash of Clans', '116476928', 'USD', '0.0', '2130805', '579', '4.5', '4.5', '9.24.12', '9+', 'Games', '38', '5', '18', '1']\n",
      "\n",
      "\n",
      "Number of rows: 7197\n",
      "Number of columns: 16\n"
     ]
    }
   ],
   "source": [
    "explore_data(ios, 0, 3, True)"
   ]
  },
  {
   "cell_type": "markdown",
   "metadata": {},
   "source": [
    "*The Google Play data set has a dedicated discussion section, and we can see that [one of the discussions](https://www.kaggle.com/lava18/google-play-store-apps/discussion/66015) describes an error for a certain row.*"
   ]
  },
  {
   "cell_type": "code",
   "execution_count": 8,
   "metadata": {},
   "outputs": [
    {
     "name": "stdout",
     "output_type": "stream",
     "text": [
      "['Life Made WI-Fi Touchscreen Photo Frame', '1.9', '19', '3.0M', '1,000+', 'Free', '0', 'Everyone', '', 'February 11, 2018', '1.0.19', '4.0 and up']\n",
      "\n",
      "\n",
      "['App', 'Category', 'Rating', 'Reviews', 'Size', 'Installs', 'Type', 'Price', 'Content Rating', 'Genres', 'Last Updated', 'Current Ver', 'Android Ver']\n",
      "\n",
      "\n",
      "['Photo Editor & Candy Camera & Grid & ScrapBook', 'ART_AND_DESIGN', '4.1', '159', '19M', '10,000+', 'Free', '0', 'Everyone', 'Art & Design', 'January 7, 2018', '1.0.0', '4.0.3 and up']\n"
     ]
    }
   ],
   "source": [
    "print(android[10472])  # incorrect row\n",
    "print('\\n')\n",
    "print(android_header)  # header\n",
    "print('\\n')\n",
    "print(android[0])      # correct row"
   ]
  },
  {
   "cell_type": "code",
   "execution_count": 9,
   "metadata": {},
   "outputs": [
    {
     "name": "stdout",
     "output_type": "stream",
     "text": [
      "10841\n",
      "10840\n"
     ]
    }
   ],
   "source": [
    "print(len(android))\n",
    "del android[10472]  # don't run this more than once\n",
    "print(len(android))"
   ]
  },
  {
   "cell_type": "markdown",
   "metadata": {},
   "source": [
    "**Check Duplicate App**"
   ]
  },
  {
   "cell_type": "code",
   "execution_count": 10,
   "metadata": {},
   "outputs": [
    {
     "name": "stdout",
     "output_type": "stream",
     "text": [
      "Total duplicate apps:  1181\n",
      "The duplicate apps: \n"
     ]
    },
    {
     "data": {
      "text/html": [
       "<div>\n",
       "<style scoped>\n",
       "    .dataframe tbody tr th:only-of-type {\n",
       "        vertical-align: middle;\n",
       "    }\n",
       "\n",
       "    .dataframe tbody tr th {\n",
       "        vertical-align: top;\n",
       "    }\n",
       "\n",
       "    .dataframe thead th {\n",
       "        text-align: right;\n",
       "    }\n",
       "</style>\n",
       "<table border=\"1\" class=\"dataframe\">\n",
       "  <thead>\n",
       "    <tr style=\"text-align: right;\">\n",
       "      <th></th>\n",
       "      <th>Apps</th>\n",
       "    </tr>\n",
       "  </thead>\n",
       "  <tbody>\n",
       "    <tr>\n",
       "      <th>0</th>\n",
       "      <td>Quick PDF Scanner + OCR FREE</td>\n",
       "    </tr>\n",
       "    <tr>\n",
       "      <th>1</th>\n",
       "      <td>Box</td>\n",
       "    </tr>\n",
       "    <tr>\n",
       "      <th>2</th>\n",
       "      <td>Google My Business</td>\n",
       "    </tr>\n",
       "    <tr>\n",
       "      <th>3</th>\n",
       "      <td>ZOOM Cloud Meetings</td>\n",
       "    </tr>\n",
       "    <tr>\n",
       "      <th>4</th>\n",
       "      <td>join.me - Simple Meetings</td>\n",
       "    </tr>\n",
       "    <tr>\n",
       "      <th>5</th>\n",
       "      <td>Box</td>\n",
       "    </tr>\n",
       "    <tr>\n",
       "      <th>6</th>\n",
       "      <td>Zenefits</td>\n",
       "    </tr>\n",
       "    <tr>\n",
       "      <th>7</th>\n",
       "      <td>Google Ads</td>\n",
       "    </tr>\n",
       "    <tr>\n",
       "      <th>8</th>\n",
       "      <td>Google My Business</td>\n",
       "    </tr>\n",
       "    <tr>\n",
       "      <th>9</th>\n",
       "      <td>Slack</td>\n",
       "    </tr>\n",
       "    <tr>\n",
       "      <th>10</th>\n",
       "      <td>FreshBooks Classic</td>\n",
       "    </tr>\n",
       "    <tr>\n",
       "      <th>11</th>\n",
       "      <td>Insightly CRM</td>\n",
       "    </tr>\n",
       "    <tr>\n",
       "      <th>12</th>\n",
       "      <td>QuickBooks Accounting: Invoicing &amp; Expenses</td>\n",
       "    </tr>\n",
       "    <tr>\n",
       "      <th>13</th>\n",
       "      <td>HipChat - Chat Built for Teams</td>\n",
       "    </tr>\n",
       "    <tr>\n",
       "      <th>14</th>\n",
       "      <td>Xero Accounting Software</td>\n",
       "    </tr>\n",
       "    <tr>\n",
       "      <th>15</th>\n",
       "      <td>MailChimp - Email, Marketing Automation</td>\n",
       "    </tr>\n",
       "    <tr>\n",
       "      <th>16</th>\n",
       "      <td>Crew - Free Messaging and Scheduling</td>\n",
       "    </tr>\n",
       "    <tr>\n",
       "      <th>17</th>\n",
       "      <td>Asana: organize team projects</td>\n",
       "    </tr>\n",
       "    <tr>\n",
       "      <th>18</th>\n",
       "      <td>Google Analytics</td>\n",
       "    </tr>\n",
       "    <tr>\n",
       "      <th>19</th>\n",
       "      <td>AdWords Express</td>\n",
       "    </tr>\n",
       "    <tr>\n",
       "      <th>20</th>\n",
       "      <td>Accounting App - Zoho Books</td>\n",
       "    </tr>\n",
       "    <tr>\n",
       "      <th>21</th>\n",
       "      <td>Invoice &amp; Time Tracking - Zoho</td>\n",
       "    </tr>\n",
       "    <tr>\n",
       "      <th>22</th>\n",
       "      <td>join.me - Simple Meetings</td>\n",
       "    </tr>\n",
       "    <tr>\n",
       "      <th>23</th>\n",
       "      <td>Invoice 2go — Professional Invoices and Estimates</td>\n",
       "    </tr>\n",
       "    <tr>\n",
       "      <th>24</th>\n",
       "      <td>SignEasy | Sign and Fill PDF and other Documents</td>\n",
       "    </tr>\n",
       "    <tr>\n",
       "      <th>25</th>\n",
       "      <td>Quick PDF Scanner + OCR FREE</td>\n",
       "    </tr>\n",
       "    <tr>\n",
       "      <th>26</th>\n",
       "      <td>Genius Scan - PDF Scanner</td>\n",
       "    </tr>\n",
       "    <tr>\n",
       "      <th>27</th>\n",
       "      <td>Tiny Scanner - PDF Scanner App</td>\n",
       "    </tr>\n",
       "    <tr>\n",
       "      <th>28</th>\n",
       "      <td>Fast Scanner : Free PDF Scan</td>\n",
       "    </tr>\n",
       "    <tr>\n",
       "      <th>29</th>\n",
       "      <td>Mobile Doc Scanner (MDScan) Lite</td>\n",
       "    </tr>\n",
       "    <tr>\n",
       "      <th>...</th>\n",
       "      <td>...</td>\n",
       "    </tr>\n",
       "    <tr>\n",
       "      <th>1151</th>\n",
       "      <td>Nike Training Club - Workouts &amp; Fitness Plans</td>\n",
       "    </tr>\n",
       "    <tr>\n",
       "      <th>1152</th>\n",
       "      <td>Hangouts Dialer - Call Phones</td>\n",
       "    </tr>\n",
       "    <tr>\n",
       "      <th>1153</th>\n",
       "      <td>Offline Maps &amp; Navigation</td>\n",
       "    </tr>\n",
       "    <tr>\n",
       "      <th>1154</th>\n",
       "      <td>Strawberry Shortcake Ice Cream Island</td>\n",
       "    </tr>\n",
       "    <tr>\n",
       "      <th>1155</th>\n",
       "      <td>Home Workout - No Equipment</td>\n",
       "    </tr>\n",
       "    <tr>\n",
       "      <th>1156</th>\n",
       "      <td>Home Security Camera WardenCam - reuse old phones</td>\n",
       "    </tr>\n",
       "    <tr>\n",
       "      <th>1157</th>\n",
       "      <td>Food Network</td>\n",
       "    </tr>\n",
       "    <tr>\n",
       "      <th>1158</th>\n",
       "      <td>Web Browser for Android</td>\n",
       "    </tr>\n",
       "    <tr>\n",
       "      <th>1159</th>\n",
       "      <td>Airway Ex - Intubate. Anesthetize. Train.</td>\n",
       "    </tr>\n",
       "    <tr>\n",
       "      <th>1160</th>\n",
       "      <td>FilterGrid - Cam&amp;Photo Editor</td>\n",
       "    </tr>\n",
       "    <tr>\n",
       "      <th>1161</th>\n",
       "      <td>Messages, Text and Video Chat for Messenger</td>\n",
       "    </tr>\n",
       "    <tr>\n",
       "      <th>1162</th>\n",
       "      <td>All Social Networks</td>\n",
       "    </tr>\n",
       "    <tr>\n",
       "      <th>1163</th>\n",
       "      <td>Premier League - Official App</td>\n",
       "    </tr>\n",
       "    <tr>\n",
       "      <th>1164</th>\n",
       "      <td>Farm Heroes Saga</td>\n",
       "    </tr>\n",
       "    <tr>\n",
       "      <th>1165</th>\n",
       "      <td>ESPN Fantasy Sports</td>\n",
       "    </tr>\n",
       "    <tr>\n",
       "      <th>1166</th>\n",
       "      <td>Fallout Shelter</td>\n",
       "    </tr>\n",
       "    <tr>\n",
       "      <th>1167</th>\n",
       "      <td>Facebook Pages Manager</td>\n",
       "    </tr>\n",
       "    <tr>\n",
       "      <th>1168</th>\n",
       "      <td>Facebook Ads Manager</td>\n",
       "    </tr>\n",
       "    <tr>\n",
       "      <th>1169</th>\n",
       "      <td>Who Viewed My Facebook Profile - Stalkers Visi...</td>\n",
       "    </tr>\n",
       "    <tr>\n",
       "      <th>1170</th>\n",
       "      <td>The 5th Stand</td>\n",
       "    </tr>\n",
       "    <tr>\n",
       "      <th>1171</th>\n",
       "      <td>Garena Free Fire</td>\n",
       "    </tr>\n",
       "    <tr>\n",
       "      <th>1172</th>\n",
       "      <td>osmino Wi-Fi: free WiFi</td>\n",
       "    </tr>\n",
       "    <tr>\n",
       "      <th>1173</th>\n",
       "      <td>Fun Kid Racing - Motocross</td>\n",
       "    </tr>\n",
       "    <tr>\n",
       "      <th>1174</th>\n",
       "      <td>Podcast App: Free &amp; Offline Podcasts by Player FM</td>\n",
       "    </tr>\n",
       "    <tr>\n",
       "      <th>1175</th>\n",
       "      <td>Motorola FM Radio</td>\n",
       "    </tr>\n",
       "    <tr>\n",
       "      <th>1176</th>\n",
       "      <td>FarmersOnly Dating</td>\n",
       "    </tr>\n",
       "    <tr>\n",
       "      <th>1177</th>\n",
       "      <td>Firefox Focus: The privacy browser</td>\n",
       "    </tr>\n",
       "    <tr>\n",
       "      <th>1178</th>\n",
       "      <td>FP Notebook</td>\n",
       "    </tr>\n",
       "    <tr>\n",
       "      <th>1179</th>\n",
       "      <td>Slickdeals: Coupons &amp; Shopping</td>\n",
       "    </tr>\n",
       "    <tr>\n",
       "      <th>1180</th>\n",
       "      <td>AAFP</td>\n",
       "    </tr>\n",
       "  </tbody>\n",
       "</table>\n",
       "<p>1181 rows × 1 columns</p>\n",
       "</div>"
      ],
      "text/plain": [
       "                                                   Apps\n",
       "0                          Quick PDF Scanner + OCR FREE\n",
       "1                                                   Box\n",
       "2                                    Google My Business\n",
       "3                                   ZOOM Cloud Meetings\n",
       "4                             join.me - Simple Meetings\n",
       "5                                                   Box\n",
       "6                                              Zenefits\n",
       "7                                            Google Ads\n",
       "8                                    Google My Business\n",
       "9                                                 Slack\n",
       "10                                   FreshBooks Classic\n",
       "11                                        Insightly CRM\n",
       "12          QuickBooks Accounting: Invoicing & Expenses\n",
       "13                       HipChat - Chat Built for Teams\n",
       "14                             Xero Accounting Software\n",
       "15              MailChimp - Email, Marketing Automation\n",
       "16                 Crew - Free Messaging and Scheduling\n",
       "17                        Asana: organize team projects\n",
       "18                                     Google Analytics\n",
       "19                                      AdWords Express\n",
       "20                          Accounting App - Zoho Books\n",
       "21                       Invoice & Time Tracking - Zoho\n",
       "22                            join.me - Simple Meetings\n",
       "23    Invoice 2go — Professional Invoices and Estimates\n",
       "24     SignEasy | Sign and Fill PDF and other Documents\n",
       "25                         Quick PDF Scanner + OCR FREE\n",
       "26                            Genius Scan - PDF Scanner\n",
       "27                       Tiny Scanner - PDF Scanner App\n",
       "28                         Fast Scanner : Free PDF Scan\n",
       "29                     Mobile Doc Scanner (MDScan) Lite\n",
       "...                                                 ...\n",
       "1151      Nike Training Club - Workouts & Fitness Plans\n",
       "1152                      Hangouts Dialer - Call Phones\n",
       "1153                          Offline Maps & Navigation\n",
       "1154              Strawberry Shortcake Ice Cream Island\n",
       "1155                        Home Workout - No Equipment\n",
       "1156  Home Security Camera WardenCam - reuse old phones\n",
       "1157                                       Food Network\n",
       "1158                            Web Browser for Android\n",
       "1159          Airway Ex - Intubate. Anesthetize. Train.\n",
       "1160                      FilterGrid - Cam&Photo Editor\n",
       "1161        Messages, Text and Video Chat for Messenger\n",
       "1162                                All Social Networks\n",
       "1163                      Premier League - Official App\n",
       "1164                                   Farm Heroes Saga\n",
       "1165                                ESPN Fantasy Sports\n",
       "1166                                    Fallout Shelter\n",
       "1167                             Facebook Pages Manager\n",
       "1168                               Facebook Ads Manager\n",
       "1169  Who Viewed My Facebook Profile - Stalkers Visi...\n",
       "1170                                      The 5th Stand\n",
       "1171                                   Garena Free Fire\n",
       "1172                            osmino Wi-Fi: free WiFi\n",
       "1173                         Fun Kid Racing - Motocross\n",
       "1174  Podcast App: Free & Offline Podcasts by Player FM\n",
       "1175                                  Motorola FM Radio\n",
       "1176                                 FarmersOnly Dating\n",
       "1177                 Firefox Focus: The privacy browser\n",
       "1178                                        FP Notebook\n",
       "1179                     Slickdeals: Coupons & Shopping\n",
       "1180                                               AAFP\n",
       "\n",
       "[1181 rows x 1 columns]"
      ]
     },
     "execution_count": 10,
     "metadata": {},
     "output_type": "execute_result"
    }
   ],
   "source": [
    "duplicate_apps = []\n",
    "unique_apps = []\n",
    "\n",
    "for app in android:\n",
    "    name = app[0]\n",
    "    if name in unique_apps:\n",
    "        duplicate_apps.append(name)\n",
    "    else:\n",
    "        unique_apps.append(name)\n",
    "\n",
    "print('Total duplicate apps: ', len(duplicate_apps))\n",
    "print('The duplicate apps: ')\n",
    "all_duplicate_apps = pd.DataFrame(duplicate_apps, columns = ['Apps'])\n",
    "all_duplicate_apps        "
   ]
  },
  {
   "cell_type": "code",
   "execution_count": 11,
   "metadata": {},
   "outputs": [
    {
     "name": "stdout",
     "output_type": "stream",
     "text": [
      "['App', 'Category', 'Rating', 'Reviews', 'Size', 'Installs', 'Type', 'Price', 'Content Rating', 'Genres', 'Last Updated', 'Current Ver', 'Android Ver']\n",
      "\n",
      "\n",
      "['Box', 'BUSINESS', '4.2', '159872', 'Varies with device', '10,000,000+', 'Free', '0', 'Everyone', 'Business', 'July 31, 2018', 'Varies with device', 'Varies with device']\n",
      "\n",
      "\n",
      "['Box', 'BUSINESS', '4.2', '159872', 'Varies with device', '10,000,000+', 'Free', '0', 'Everyone', 'Business', 'July 31, 2018', 'Varies with device', 'Varies with device']\n",
      "\n",
      "\n",
      "['Box', 'BUSINESS', '4.2', '159872', 'Varies with device', '10,000,000+', 'Free', '0', 'Everyone', 'Business', 'July 31, 2018', 'Varies with device', 'Varies with device']\n",
      "\n",
      "\n"
     ]
    }
   ],
   "source": [
    "print(android_header)\n",
    "print('\\n')\n",
    "for i in android:\n",
    "    if i[0] == 'Box':\n",
    "        print(i[0:])\n",
    "        print('\\n')"
   ]
  },
  {
   "cell_type": "markdown",
   "metadata": {},
   "source": [
    ">There is no difference in all 'box' application rows"
   ]
  },
  {
   "cell_type": "code",
   "execution_count": 12,
   "metadata": {},
   "outputs": [
    {
     "name": "stdout",
     "output_type": "stream",
     "text": [
      "['App', 'Category', 'Rating', 'Reviews', 'Size', 'Installs', 'Type', 'Price', 'Content Rating', 'Genres', 'Last Updated', 'Current Ver', 'Android Ver']\n",
      "\n",
      "\n",
      "['Instagram', 'SOCIAL', '4.5', '66577313', 'Varies with device', '1,000,000,000+', 'Free', '0', 'Teen', 'Social', 'July 31, 2018', 'Varies with device', 'Varies with device']\n",
      "\n",
      "\n",
      "['Instagram', 'SOCIAL', '4.5', '66577446', 'Varies with device', '1,000,000,000+', 'Free', '0', 'Teen', 'Social', 'July 31, 2018', 'Varies with device', 'Varies with device']\n",
      "\n",
      "\n",
      "['Instagram', 'SOCIAL', '4.5', '66577313', 'Varies with device', '1,000,000,000+', 'Free', '0', 'Teen', 'Social', 'July 31, 2018', 'Varies with device', 'Varies with device']\n",
      "\n",
      "\n",
      "['Instagram', 'SOCIAL', '4.5', '66509917', 'Varies with device', '1,000,000,000+', 'Free', '0', 'Teen', 'Social', 'July 31, 2018', 'Varies with device', 'Varies with device']\n",
      "\n",
      "\n"
     ]
    }
   ],
   "source": [
    "print(android_header)\n",
    "print('\\n')\n",
    "for i in android:\n",
    "    if i[0] == 'Instagram':\n",
    "        print(i[0:])\n",
    "        print('\\n')"
   ]
  },
  {
   "cell_type": "markdown",
   "metadata": {},
   "source": [
    "> In Instagram, the higher the number of reviews, the more recent the data should be."
   ]
  },
  {
   "cell_type": "code",
   "execution_count": 13,
   "metadata": {},
   "outputs": [
    {
     "name": "stdout",
     "output_type": "stream",
     "text": [
      "Expected length: 9659\n"
     ]
    }
   ],
   "source": [
    "print('Expected length:', len(android)-1181)"
   ]
  },
  {
   "cell_type": "code",
   "execution_count": 14,
   "metadata": {},
   "outputs": [],
   "source": [
    "reviews_max = {}\n",
    "for app in android:\n",
    "    name = app[0]\n",
    "    n_reviews = float(app[3])\n",
    "    if name in reviews_max and  reviews_max[name] < n_reviews:\n",
    "        reviews_max[name] = n_reviews\n",
    "    elif name not in reviews_max:\n",
    "        reviews_max[name] = n_reviews        "
   ]
  },
  {
   "cell_type": "code",
   "execution_count": 15,
   "metadata": {},
   "outputs": [
    {
     "data": {
      "text/plain": [
       "9659"
      ]
     },
     "execution_count": 15,
     "metadata": {},
     "output_type": "execute_result"
    }
   ],
   "source": [
    "len(reviews_max)"
   ]
  },
  {
   "cell_type": "code",
   "execution_count": 16,
   "metadata": {
    "collapsed": true
   },
   "outputs": [],
   "source": [
    "android_clean = []\n",
    "already_added = []\n",
    "for app in android:\n",
    "    name = app[0]\n",
    "    n_reviews = float(app[3])\n",
    "    if n_reviews == reviews_max[name] and name not in already_added:\n",
    "        android_clean.append(app)\n",
    "        already_added.append(name)"
   ]
  },
  {
   "cell_type": "code",
   "execution_count": 17,
   "metadata": {},
   "outputs": [
    {
     "name": "stdout",
     "output_type": "stream",
     "text": [
      "['Photo Editor & Candy Camera & Grid & ScrapBook', 'ART_AND_DESIGN', '4.1', '159', '19M', '10,000+', 'Free', '0', 'Everyone', 'Art & Design', 'January 7, 2018', '1.0.0', '4.0.3 and up']\n",
      "\n",
      "\n",
      "['U Launcher Lite – FREE Live Cool Themes, Hide Apps', 'ART_AND_DESIGN', '4.7', '87510', '8.7M', '5,000,000+', 'Free', '0', 'Everyone', 'Art & Design', 'August 1, 2018', '1.2.4', '4.0.3 and up']\n",
      "\n",
      "\n",
      "['Sketch - Draw & Paint', 'ART_AND_DESIGN', '4.5', '215644', '25M', '50,000,000+', 'Free', '0', 'Teen', 'Art & Design', 'June 8, 2018', 'Varies with device', '4.2 and up']\n",
      "\n",
      "\n",
      "['Pixel Draw - Number Art Coloring Book', 'ART_AND_DESIGN', '4.3', '967', '2.8M', '100,000+', 'Free', '0', 'Everyone', 'Art & Design;Creativity', 'June 20, 2018', '1.1', '4.4 and up']\n",
      "\n",
      "\n",
      "['Paper flowers instructions', 'ART_AND_DESIGN', '4.4', '167', '5.6M', '50,000+', 'Free', '0', 'Everyone', 'Art & Design', 'March 26, 2017', '1.0', '2.3 and up']\n",
      "\n",
      "\n",
      "Number of rows: 9659\n",
      "Number of columns: 13\n"
     ]
    }
   ],
   "source": [
    "explore_data(android_clean, 0, 5, True)"
   ]
  },
  {
   "cell_type": "markdown",
   "metadata": {},
   "source": [
    "------\n",
    "<div style='text-align: justify;'>\n",
    "    Remember we use English for the apps we develop at our company, and we'd like to analyze only the apps that are directed toward an English-speaking audience. However, if we explore the data long enough, we'll find that both data sets have apps with names that suggest they are not directed toward an English-speaking audience.\n",
    "</div>"
   ]
  },
  {
   "cell_type": "code",
   "execution_count": 18,
   "metadata": {},
   "outputs": [
    {
     "name": "stdout",
     "output_type": "stream",
     "text": [
      "Example app in Apple Store:\n",
      "爱奇艺PPS -《欢乐颂2》电视剧热播\n",
      "\n",
      "\n",
      "Example app in Google :\n",
      "中国語 AQリスニング\n"
     ]
    }
   ],
   "source": [
    "# Example of apps' name that using non English\n",
    "print('Example app in Apple Store:')\n",
    "print(ios[813][1])\n",
    "print('\\n')\n",
    "print('Example app in Google :')\n",
    "print(android_clean[4412][0])"
   ]
  },
  {
   "cell_type": "markdown",
   "metadata": {},
   "source": [
    "------\n",
    "<div style='text-align: justify;'>\n",
    "The numbers corresponding to the characters we commonly use in an English text are all in the range 0 to 127, according to the ASCII (American Standard Code for Information Interchange) system. Based on this number range, we can build a function that detects whether a character belongs to the set of common English characters or not. If the number is equal to or less than 127, then the character belongs to the set of common English characters.\n",
    "</div>"
   ]
  },
  {
   "cell_type": "code",
   "execution_count": 19,
   "metadata": {},
   "outputs": [
    {
     "name": "stdout",
     "output_type": "stream",
     "text": [
      "Instagram is probably English Name ( True )\n",
      "\n",
      "\n",
      "爱奇艺PPS -《欢乐颂2》电视剧热播 is probably English Name ( False )\n",
      "\n",
      "\n",
      "Docs To Go™ Free Office Suite is probably English Name ( False )\n",
      "\n",
      "\n",
      "Instachat 😜 is probably English Name ( False )\n",
      "\n",
      "\n"
     ]
    }
   ],
   "source": [
    "def is_english(string):\n",
    "    for char in string:\n",
    "        if ord(char) > 127:\n",
    "            return False\n",
    "    return True\n",
    "print('Instagram is probably English Name (',is_english('Instagram'),')')\n",
    "print('\\n')\n",
    "print('爱奇艺PPS -《欢乐颂2》电视剧热播 is probably English Name (',is_english('爱奇艺PPS -《欢乐颂2》电视剧热播'),')')\n",
    "print('\\n')\n",
    "print('Docs To Go™ Free Office Suite is probably English Name (',is_english('Docs To Go™ Free Office Suite'),')')\n",
    "print('\\n')\n",
    "print('Instachat 😜 is probably English Name (',is_english('Instachat 😜'),')')\n",
    "print('\\n')"
   ]
  },
  {
   "cell_type": "markdown",
   "metadata": {},
   "source": [
    "------\n",
    "<div style='text-align: justify;'>\n",
    "If we are using this function, we will lose useful data since there are many English apps will be incorrectly labeled as non-English. Example: Instachat and Docs To Go. \n",
    "</div>\n",
    "\n",
    "***The reason is emojis fall outside the ASCII range (over 127) ***"
   ]
  },
  {
   "cell_type": "code",
   "execution_count": 20,
   "metadata": {
    "collapsed": true
   },
   "outputs": [],
   "source": [
    "# To prevent that, we change our function\n",
    "def is_english(string):\n",
    "    non_ascii = 0\n",
    "    for char in string:\n",
    "        if ord(char) > 127:\n",
    "            non_ascii += 1\n",
    "    if non_ascii > 3:\n",
    "        return False\n",
    "    else:\n",
    "        return True"
   ]
  },
  {
   "cell_type": "code",
   "execution_count": 21,
   "metadata": {},
   "outputs": [
    {
     "name": "stdout",
     "output_type": "stream",
     "text": [
      "爱奇艺PPS -《欢乐颂2》电视剧热播 is probably English Name ( False )\n",
      "\n",
      "\n",
      "Docs To Go™ Free Office Suite is probably English Name ( True )\n",
      "\n",
      "\n",
      "Instachat 😜 is probably English Name ( True )\n",
      "\n",
      "\n"
     ]
    }
   ],
   "source": [
    "print('爱奇艺PPS -《欢乐颂2》电视剧热播 is probably English Name (',is_english('爱奇艺PPS -《欢乐颂2》电视剧热播'),')')\n",
    "print('\\n')\n",
    "print('Docs To Go™ Free Office Suite is probably English Name (',is_english('Docs To Go™ Free Office Suite'),')')\n",
    "print('\\n')\n",
    "print('Instachat 😜 is probably English Name (',is_english('Instachat 😜'),')')\n",
    "print('\\n')"
   ]
  },
  {
   "cell_type": "code",
   "execution_count": 22,
   "metadata": {},
   "outputs": [
    {
     "name": "stdout",
     "output_type": "stream",
     "text": [
      "['Photo Editor & Candy Camera & Grid & ScrapBook', 'ART_AND_DESIGN', '4.1', '159', '19M', '10,000+', 'Free', '0', 'Everyone', 'Art & Design', 'January 7, 2018', '1.0.0', '4.0.3 and up']\n",
      "\n",
      "\n",
      "['U Launcher Lite – FREE Live Cool Themes, Hide Apps', 'ART_AND_DESIGN', '4.7', '87510', '8.7M', '5,000,000+', 'Free', '0', 'Everyone', 'Art & Design', 'August 1, 2018', '1.2.4', '4.0.3 and up']\n",
      "\n",
      "\n",
      "['Sketch - Draw & Paint', 'ART_AND_DESIGN', '4.5', '215644', '25M', '50,000,000+', 'Free', '0', 'Teen', 'Art & Design', 'June 8, 2018', 'Varies with device', '4.2 and up']\n",
      "\n",
      "\n",
      "Number of rows: 9614\n",
      "Number of columns: 13\n",
      "\n",
      "\n",
      "['284882215', 'Facebook', '389879808', 'USD', '0.0', '2974676', '212', '3.5', '3.5', '95.0', '4+', 'Social Networking', '37', '1', '29', '1']\n",
      "\n",
      "\n",
      "['389801252', 'Instagram', '113954816', 'USD', '0.0', '2161558', '1289', '4.5', '4.0', '10.23', '12+', 'Photo & Video', '37', '0', '29', '1']\n",
      "\n",
      "\n",
      "['529479190', 'Clash of Clans', '116476928', 'USD', '0.0', '2130805', '579', '4.5', '4.5', '9.24.12', '9+', 'Games', '38', '5', '18', '1']\n",
      "\n",
      "\n",
      "Number of rows: 6183\n",
      "Number of columns: 16\n"
     ]
    }
   ],
   "source": [
    "english_android = []\n",
    "english_ios = []\n",
    "\n",
    "for app in android_clean:\n",
    "    name = app[0]\n",
    "    if is_english(name):\n",
    "        english_android.append(app)\n",
    "        \n",
    "for app in ios:\n",
    "    name = app[1]\n",
    "    if is_english(name):\n",
    "        english_ios.append(app)\n",
    "        \n",
    "explore_data(english_android, 0, 3, True)\n",
    "print('\\n')\n",
    "explore_data(english_ios, 0, 3, True)"
   ]
  },
  {
   "cell_type": "code",
   "execution_count": 23,
   "metadata": {},
   "outputs": [
    {
     "name": "stdout",
     "output_type": "stream",
     "text": [
      "8864\n",
      "3222\n"
     ]
    }
   ],
   "source": [
    "free_english_android = []\n",
    "free_english_ios = []\n",
    "\n",
    "for app in english_android:\n",
    "    price = app[7]\n",
    "    if price == '0':\n",
    "        free_english_android.append(app)\n",
    "        \n",
    "\n",
    "for app in english_ios:\n",
    "    price = app[4]\n",
    "    if price == '0.0':\n",
    "        free_english_ios.append(app)\n",
    "        \n",
    "print(len(free_english_android))\n",
    "print(len(free_english_ios))"
   ]
  },
  {
   "cell_type": "markdown",
   "metadata": {},
   "source": [
    "<div style = 'text-align: justify'>\n",
    "As we mentioned in the introduction, our aim is to determine the kinds of apps that are likely to attract more users because our revenue is highly influenced by the number of people using our apps.<br><br>\n",
    "\n",
    "To minimize risks and overhead, our validation strategy for an app idea is comprised of three steps:<br><br>\n",
    "\n",
    "1. Build a minimal Android version of the app, and add it to Google Play.<br>\n",
    "2. If the app has a good response from users, we then develop it further.<br>\n",
    "3. If the app is profitable after six months, we also build an iOS version of the app and add it to the App Store.<br><br>\n",
    "\n",
    "Because our end goal is to add the app on both the App Store and Google Play, we need to find app profiles that are successful on both markets. For instance, a profile that might work well for both markets might be a productivity app that makes use of gamification.<br><br>\n",
    "\n",
    "Let's begin the analysis by getting a sense of the most common genres for each market. For this, we'll build a frequency table for the prime_genre column of the App Store data set, and the Genres and Category columns of the Google Play data set.\n",
    "</div>"
   ]
  },
  {
   "cell_type": "markdown",
   "metadata": {},
   "source": [
    "-------\n",
    "<div style='text-align: justify'>\n",
    "Our conclusion was that we'll need to build a frequency table for the prime_genre column of the App Store data set, and for the Genres and Category columns of the Google Play data set.<br><br>\n",
    "\n",
    "We'll build two functions we can use to analyze the frequency tables: <br> <br>\n",
    "\n",
    "1. One function to generate frequency tables that show percentages <br>\n",
    "2. Another function we can use to display the percentages in a descending order\n",
    "</div>"
   ]
  },
  {
   "cell_type": "code",
   "execution_count": 24,
   "metadata": {},
   "outputs": [],
   "source": [
    "def freq_table(dataset, index):\n",
    "    table = {}\n",
    "    total = 0\n",
    "    table_percentage = {}\n",
    "    \n",
    "    for app in dataset:\n",
    "        total += 1\n",
    "        value = app[index]\n",
    "        \n",
    "        if value in table:\n",
    "            table[value] += 1\n",
    "        else:\n",
    "            table[value] = 1\n",
    "    \n",
    "    for key in table:\n",
    "        percentage = (table[key] / total) * 100\n",
    "        table_percentage[key] = percentage\n",
    "    \n",
    "    return table_percentage\n",
    "\n",
    "def display_table(dataset, index):\n",
    "    table = freq_table(dataset, index)\n",
    "    table_display = []\n",
    "    for key in table:\n",
    "        key_val_as_tuple = (table[key], key)\n",
    "        table_display.append(key_val_as_tuple)\n",
    "    \n",
    "    table_sorted = sorted(table_display, reverse = True)\n",
    "    for entry in table_sorted:\n",
    "        print(entry[1], '=', entry[0])\n",
    "    "
   ]
  },
  {
   "cell_type": "code",
   "execution_count": 25,
   "metadata": {},
   "outputs": [
    {
     "name": "stdout",
     "output_type": "stream",
     "text": [
      "Games = 58.16263190564867\n",
      "Entertainment = 7.883302296710118\n",
      "Photo & Video = 4.9658597144630665\n",
      "Education = 3.662321539416512\n",
      "Social Networking = 3.2898820608317814\n",
      "Shopping = 2.60707635009311\n",
      "Utilities = 2.5139664804469275\n",
      "Sports = 2.1415270018621975\n",
      "Music = 2.0484171322160147\n",
      "Health & Fitness = 2.0173805090006205\n",
      "Productivity = 1.7380509000620732\n",
      "Lifestyle = 1.5828677839851024\n",
      "News = 1.3345747982619491\n",
      "Travel = 1.2414649286157666\n",
      "Finance = 1.1173184357541899\n",
      "Weather = 0.8690254500310366\n",
      "Food & Drink = 0.8069522036002483\n",
      "Reference = 0.5586592178770949\n",
      "Business = 0.5276225946617008\n",
      "Book = 0.4345127250155183\n",
      "Navigation = 0.186219739292365\n",
      "Medical = 0.186219739292365\n",
      "Catalogs = 0.12414649286157665\n"
     ]
    }
   ],
   "source": [
    "display_table(free_english_ios, -5)"
   ]
  },
  {
   "cell_type": "markdown",
   "metadata": {},
   "source": [
    "-----\n",
    "<div style = 'text-align:justify'>\n",
    "We can see that among the free English apps, more than a half (58.16%) are games. Entertainment apps are close to 8%, followed by photo and video apps, which are close to 5%. Only 3.66% of the apps are designed for education, followed by social networking apps which amount for 3.29% of the apps in our data set.<br><br>\n",
    "\n",
    "The general impression is that App Store (at least the part containing free English apps) ___***is dominated by apps that are designed for fun (games, entertainment, photo and video, social networking, sports, music, etc.), while apps with practical purposes (education, shopping, utilities, productivity, lifestyle, etc.) are more rare.***___\n",
    "</div>"
   ]
  },
  {
   "cell_type": "code",
   "execution_count": 26,
   "metadata": {},
   "outputs": [
    {
     "name": "stdout",
     "output_type": "stream",
     "text": [
      "FAMILY = 18.907942238267147\n",
      "GAME = 9.724729241877256\n",
      "TOOLS = 8.461191335740072\n",
      "BUSINESS = 4.591606498194946\n",
      "LIFESTYLE = 3.9034296028880866\n",
      "PRODUCTIVITY = 3.892148014440433\n",
      "FINANCE = 3.7003610108303246\n",
      "MEDICAL = 3.531137184115524\n",
      "SPORTS = 3.395758122743682\n",
      "PERSONALIZATION = 3.3167870036101084\n",
      "COMMUNICATION = 3.2378158844765346\n",
      "HEALTH_AND_FITNESS = 3.0798736462093865\n",
      "PHOTOGRAPHY = 2.944494584837545\n",
      "NEWS_AND_MAGAZINES = 2.7978339350180503\n",
      "SOCIAL = 2.6624548736462095\n",
      "TRAVEL_AND_LOCAL = 2.33528880866426\n",
      "SHOPPING = 2.2450361010830324\n",
      "BOOKS_AND_REFERENCE = 2.1435018050541514\n",
      "DATING = 1.861462093862816\n",
      "VIDEO_PLAYERS = 1.7937725631768955\n",
      "MAPS_AND_NAVIGATION = 1.3989169675090252\n",
      "FOOD_AND_DRINK = 1.2409747292418771\n",
      "EDUCATION = 1.1620036101083033\n",
      "ENTERTAINMENT = 0.9589350180505415\n",
      "LIBRARIES_AND_DEMO = 0.9363718411552346\n",
      "AUTO_AND_VEHICLES = 0.9250902527075812\n",
      "HOUSE_AND_HOME = 0.8235559566787004\n",
      "WEATHER = 0.8009927797833934\n",
      "EVENTS = 0.7107400722021661\n",
      "PARENTING = 0.6543321299638989\n",
      "ART_AND_DESIGN = 0.6430505415162455\n",
      "COMICS = 0.6204873646209386\n",
      "BEAUTY = 0.5979241877256317\n"
     ]
    }
   ],
   "source": [
    "display_table(free_english_android, 1)"
   ]
  },
  {
   "cell_type": "markdown",
   "metadata": {},
   "source": [
    "-----\n",
    "<div style = 'text-align:justify'>\n",
    "The landscape seems significantly different on Google Play: there are not that many apps designed for fun, and ***it seems that a good number of apps are designed for practical purposes (family, tools, business, lifestyle, productivity, etc.).*** However, if we investigate this further, we can see that the family category (which accounts for almost 19% of the apps) means mostly games for kids. <br> <br>\n",
    "\n",
    "Even so, practical apps seem to have a better representation on Google Play compared to App Store.\n",
    "</div>"
   ]
  },
  {
   "cell_type": "code",
   "execution_count": 27,
   "metadata": {},
   "outputs": [
    {
     "name": "stdout",
     "output_type": "stream",
     "text": [
      "Tools = 8.449909747292418\n",
      "Entertainment = 6.069494584837545\n",
      "Education = 5.347472924187725\n",
      "Business = 4.591606498194946\n",
      "Productivity = 3.892148014440433\n",
      "Lifestyle = 3.892148014440433\n",
      "Finance = 3.7003610108303246\n",
      "Medical = 3.531137184115524\n",
      "Sports = 3.463447653429603\n",
      "Personalization = 3.3167870036101084\n",
      "Communication = 3.2378158844765346\n",
      "Action = 3.1024368231046933\n",
      "Health & Fitness = 3.0798736462093865\n",
      "Photography = 2.944494584837545\n",
      "News & Magazines = 2.7978339350180503\n",
      "Social = 2.6624548736462095\n",
      "Travel & Local = 2.3240072202166067\n",
      "Shopping = 2.2450361010830324\n",
      "Books & Reference = 2.1435018050541514\n",
      "Simulation = 2.0419675090252705\n",
      "Dating = 1.861462093862816\n",
      "Arcade = 1.8501805054151623\n",
      "Video Players & Editors = 1.7712093862815883\n",
      "Casual = 1.7599277978339352\n",
      "Maps & Navigation = 1.3989169675090252\n",
      "Food & Drink = 1.2409747292418771\n",
      "Puzzle = 1.128158844765343\n",
      "Racing = 0.9927797833935018\n",
      "Role Playing = 0.9363718411552346\n",
      "Libraries & Demo = 0.9363718411552346\n",
      "Auto & Vehicles = 0.9250902527075812\n",
      "Strategy = 0.9138086642599278\n",
      "House & Home = 0.8235559566787004\n",
      "Weather = 0.8009927797833934\n",
      "Events = 0.7107400722021661\n",
      "Adventure = 0.6768953068592057\n",
      "Comics = 0.6092057761732852\n",
      "Beauty = 0.5979241877256317\n",
      "Art & Design = 0.5979241877256317\n",
      "Parenting = 0.4963898916967509\n",
      "Card = 0.45126353790613716\n",
      "Casino = 0.42870036101083037\n",
      "Trivia = 0.41741877256317694\n",
      "Educational;Education = 0.39485559566787\n",
      "Board = 0.3835740072202166\n",
      "Educational = 0.3722924187725632\n",
      "Education;Education = 0.33844765342960287\n",
      "Word = 0.2594765342960289\n",
      "Casual;Pretend Play = 0.236913357400722\n",
      "Music = 0.2030685920577617\n",
      "Racing;Action & Adventure = 0.16922382671480143\n",
      "Puzzle;Brain Games = 0.16922382671480143\n",
      "Entertainment;Music & Video = 0.16922382671480143\n",
      "Casual;Brain Games = 0.13537906137184114\n",
      "Casual;Action & Adventure = 0.13537906137184114\n",
      "Arcade;Action & Adventure = 0.12409747292418773\n",
      "Action;Action & Adventure = 0.10153429602888085\n",
      "Educational;Pretend Play = 0.09025270758122744\n",
      "Simulation;Action & Adventure = 0.078971119133574\n",
      "Parenting;Education = 0.078971119133574\n",
      "Entertainment;Brain Games = 0.078971119133574\n",
      "Board;Brain Games = 0.078971119133574\n",
      "Parenting;Music & Video = 0.06768953068592057\n",
      "Educational;Brain Games = 0.06768953068592057\n",
      "Casual;Creativity = 0.06768953068592057\n",
      "Art & Design;Creativity = 0.06768953068592057\n",
      "Education;Pretend Play = 0.056407942238267145\n",
      "Role Playing;Pretend Play = 0.04512635379061372\n",
      "Education;Creativity = 0.04512635379061372\n",
      "Role Playing;Action & Adventure = 0.033844765342960284\n",
      "Puzzle;Action & Adventure = 0.033844765342960284\n",
      "Entertainment;Creativity = 0.033844765342960284\n",
      "Entertainment;Action & Adventure = 0.033844765342960284\n",
      "Educational;Creativity = 0.033844765342960284\n",
      "Educational;Action & Adventure = 0.033844765342960284\n",
      "Education;Music & Video = 0.033844765342960284\n",
      "Education;Brain Games = 0.033844765342960284\n",
      "Education;Action & Adventure = 0.033844765342960284\n",
      "Adventure;Action & Adventure = 0.033844765342960284\n",
      "Video Players & Editors;Music & Video = 0.02256317689530686\n",
      "Sports;Action & Adventure = 0.02256317689530686\n",
      "Simulation;Pretend Play = 0.02256317689530686\n",
      "Puzzle;Creativity = 0.02256317689530686\n",
      "Music;Music & Video = 0.02256317689530686\n",
      "Entertainment;Pretend Play = 0.02256317689530686\n",
      "Casual;Education = 0.02256317689530686\n",
      "Board;Action & Adventure = 0.02256317689530686\n",
      "Video Players & Editors;Creativity = 0.01128158844765343\n",
      "Trivia;Education = 0.01128158844765343\n",
      "Travel & Local;Action & Adventure = 0.01128158844765343\n",
      "Tools;Education = 0.01128158844765343\n",
      "Strategy;Education = 0.01128158844765343\n",
      "Strategy;Creativity = 0.01128158844765343\n",
      "Strategy;Action & Adventure = 0.01128158844765343\n",
      "Simulation;Education = 0.01128158844765343\n",
      "Role Playing;Brain Games = 0.01128158844765343\n",
      "Racing;Pretend Play = 0.01128158844765343\n",
      "Puzzle;Education = 0.01128158844765343\n",
      "Parenting;Brain Games = 0.01128158844765343\n",
      "Music & Audio;Music & Video = 0.01128158844765343\n",
      "Lifestyle;Pretend Play = 0.01128158844765343\n",
      "Lifestyle;Education = 0.01128158844765343\n",
      "Health & Fitness;Education = 0.01128158844765343\n",
      "Health & Fitness;Action & Adventure = 0.01128158844765343\n",
      "Entertainment;Education = 0.01128158844765343\n",
      "Communication;Creativity = 0.01128158844765343\n",
      "Comics;Creativity = 0.01128158844765343\n",
      "Casual;Music & Video = 0.01128158844765343\n",
      "Card;Action & Adventure = 0.01128158844765343\n",
      "Books & Reference;Education = 0.01128158844765343\n",
      "Art & Design;Pretend Play = 0.01128158844765343\n",
      "Art & Design;Action & Adventure = 0.01128158844765343\n",
      "Arcade;Pretend Play = 0.01128158844765343\n",
      "Adventure;Education = 0.01128158844765343\n"
     ]
    }
   ],
   "source": [
    "display_table(free_english_android, -4)"
   ]
  },
  {
   "cell_type": "markdown",
   "metadata": {},
   "source": [
    "-----\n",
    "<div style = 'text-align:justify'>\n",
    "The difference between the Genres and the Category columns is not crystal clear, but one thing we can notice is that the Genres column is much more granular (it has more categories). We're only looking for the bigger picture at the moment, so we'll only work with the Category column moving forward. <br> <br>\n",
    "\n",
    "Up to this point, we found that the App Store is dominated by apps designed for fun, while Google Play shows a more balanced landscape of both practical and for-fun apps.\n",
    "</div>"
   ]
  },
  {
   "cell_type": "markdown",
   "metadata": {},
   "source": [
    "** Most Popular Apps by Genre on the App Store **"
   ]
  },
  {
   "cell_type": "code",
   "execution_count": 28,
   "metadata": {},
   "outputs": [
    {
     "name": "stdout",
     "output_type": "stream",
     "text": [
      "Navigation = 86090.33333333333\n",
      "Reference = 74942.11111111111\n",
      "Social Networking = 71548.34905660378\n",
      "Music = 57326.530303030304\n",
      "Weather = 52279.892857142855\n",
      "Book = 39758.5\n",
      "Food & Drink = 33333.92307692308\n",
      "Finance = 31467.944444444445\n",
      "Photo & Video = 28441.54375\n",
      "Travel = 28243.8\n",
      "Shopping = 26919.690476190477\n",
      "Health & Fitness = 23298.015384615384\n",
      "Sports = 23008.898550724636\n",
      "Games = 22788.6696905016\n",
      "News = 21248.023255813954\n",
      "Productivity = 21028.410714285714\n",
      "Utilities = 18684.456790123455\n",
      "Lifestyle = 16485.764705882353\n",
      "Entertainment = 14029.830708661417\n",
      "Business = 7491.117647058823\n",
      "Education = 7003.983050847458\n",
      "Catalogs = 4004.0\n",
      "Medical = 612.0\n"
     ]
    }
   ],
   "source": [
    "genres_ios = freq_table(free_english_ios, -5)\n",
    "table = []\n",
    "for genre in genres_ios:\n",
    "    total = 0\n",
    "    len_genre = 0\n",
    "    for app in free_english_ios:\n",
    "        genre_app = app[-5]\n",
    "        if genre_app == genre:            \n",
    "            n_ratings = float(app[5])\n",
    "            total += n_ratings\n",
    "            len_genre += 1\n",
    "    avg_n_ratings = total / len_genre\n",
    "    table.append((avg_n_ratings, genre))\n",
    "sorted_table = sorted(table, reverse = True)\n",
    "for i in sorted_table:\n",
    "    print(i[1], '=', i[0])"
   ]
  },
  {
   "cell_type": "markdown",
   "metadata": {},
   "source": [
    "-----\n",
    "<div style = 'text-align:justify'>\n",
    "On average, navigation apps have the highest number of user reviews, but this figure is heavily influenced by Waze and Google Maps, which have close to half a million user reviews together.\n",
    "\n",
    "</div>"
   ]
  },
  {
   "cell_type": "code",
   "execution_count": 29,
   "metadata": {},
   "outputs": [
    {
     "name": "stdout",
     "output_type": "stream",
     "text": [
      "Waze - GPS Navigation, Maps & Real-time Traffic = 345046\n",
      "Google Maps - Navigation & Transit = 154911\n",
      "Geocaching® = 12811\n",
      "CoPilot GPS – Car Navigation & Offline Maps = 3582\n",
      "ImmobilienScout24: Real Estate Search in Germany = 187\n",
      "Railway Route Search = 5\n"
     ]
    }
   ],
   "source": [
    "for i in free_english_ios:\n",
    "    if i[-5] == 'Navigation':\n",
    "        print(i[1], '=', i[5])"
   ]
  },
  {
   "cell_type": "markdown",
   "metadata": {},
   "source": [
    "-----\n",
    "<div style = 'text-align:justify'>\n",
    "The same pattern applies to social networking apps, where the average number is heavily influenced by a few giants like Facebook, Pinterest, Skype, etc. Same applies to music apps, where a few big players like Pandora, Spotify, and Shazam heavily influence the average number. <br> <br>\n",
    "\n",
    "Our aim is to find popular genres, but navigation, social networking or music apps might seem more popular than they really are. ***The average number of ratings seem to be skewed by very few apps which have hundreds of thousands of user ratings, while the other apps may struggle to get past the 10,000 threshold.***\n",
    "</div>"
   ]
  },
  {
   "cell_type": "code",
   "execution_count": 30,
   "metadata": {},
   "outputs": [
    {
     "name": "stdout",
     "output_type": "stream",
     "text": [
      "Bible = 985920\n",
      "Dictionary.com Dictionary & Thesaurus = 200047\n",
      "Dictionary.com Dictionary & Thesaurus for iPad = 54175\n",
      "Google Translate = 26786\n",
      "Muslim Pro: Ramadan 2017 Prayer Times, Azan, Quran = 18418\n",
      "New Furniture Mods - Pocket Wiki & Game Tools for Minecraft PC Edition = 17588\n",
      "Merriam-Webster Dictionary = 16849\n",
      "Night Sky = 12122\n",
      "City Maps for Minecraft PE - The Best Maps for Minecraft Pocket Edition (MCPE) = 8535\n",
      "LUCKY BLOCK MOD ™ for Minecraft PC Edition - The Best Pocket Wiki & Mods Installer Tools = 4693\n",
      "GUNS MODS for Minecraft PC Edition - Mods Tools = 1497\n",
      "Guides for Pokémon GO - Pokemon GO News and Cheats = 826\n",
      "WWDC = 762\n",
      "Horror Maps for Minecraft PE - Download The Scariest Maps for Minecraft Pocket Edition (MCPE) Free = 718\n",
      "VPN Express = 14\n",
      "Real Bike Traffic Rider Virtual Reality Glasses = 8\n",
      "教えて!goo = 0\n",
      "Jishokun-Japanese English Dictionary & Translator = 0\n"
     ]
    }
   ],
   "source": [
    "for i in free_english_ios:\n",
    "    if i[-5] == 'Reference':\n",
    "        print(i[1], '=', i[5])"
   ]
  },
  {
   "cell_type": "markdown",
   "metadata": {},
   "source": [
    "-----\n",
    "<div style = 'text-align:justify'>\n",
    "However, this niche seems to show some potential. One thing we could do is take another popular book and turn it into an app where we could add different features besides the raw version of the book. This might include daily quotes from the book, an audio version of the book, quizzes about the book, etc. On top of that, we could also embed a dictionary within the app, so users don't need to exit our app to look up words in an external app. <br> <br>\n",
    "\n",
    "This idea seems to fit well with the fact that the App Store is dominated by for-fun apps. This suggests the market might be a bit saturated with for-fun apps, which means a practical app might have more of a chance to stand out among the huge number of apps on the App Store.\n",
    "</div>"
   ]
  },
  {
   "cell_type": "markdown",
   "metadata": {},
   "source": [
    "**Most Popular Apps by Genre on Google Play**"
   ]
  },
  {
   "cell_type": "code",
   "execution_count": 32,
   "metadata": {},
   "outputs": [
    {
     "name": "stdout",
     "output_type": "stream",
     "text": [
      "COMMUNICATION = 38456119.167247385\n",
      "VIDEO_PLAYERS = 24727872.452830188\n",
      "SOCIAL = 23253652.127118643\n",
      "PHOTOGRAPHY = 17840110.40229885\n",
      "PRODUCTIVITY = 16787331.344927534\n",
      "GAME = 15588015.603248259\n",
      "TRAVEL_AND_LOCAL = 13984077.710144928\n",
      "ENTERTAINMENT = 11640705.88235294\n",
      "TOOLS = 10801391.298666667\n",
      "NEWS_AND_MAGAZINES = 9549178.467741935\n",
      "BOOKS_AND_REFERENCE = 8767811.894736841\n",
      "SHOPPING = 7036877.311557789\n",
      "PERSONALIZATION = 5201482.6122448975\n",
      "WEATHER = 5074486.197183099\n",
      "HEALTH_AND_FITNESS = 4188821.9853479853\n",
      "MAPS_AND_NAVIGATION = 4056941.7741935486\n",
      "FAMILY = 3695641.8198090694\n",
      "SPORTS = 3638640.1428571427\n",
      "ART_AND_DESIGN = 1986335.0877192982\n",
      "FOOD_AND_DRINK = 1924897.7363636363\n",
      "EDUCATION = 1833495.145631068\n",
      "BUSINESS = 1712290.1474201474\n",
      "LIFESTYLE = 1437816.2687861272\n",
      "FINANCE = 1387692.475609756\n",
      "HOUSE_AND_HOME = 1331540.5616438356\n",
      "DATING = 854028.8303030303\n",
      "COMICS = 817657.2727272727\n",
      "AUTO_AND_VEHICLES = 647317.8170731707\n",
      "LIBRARIES_AND_DEMO = 638503.734939759\n",
      "PARENTING = 542603.6206896552\n",
      "BEAUTY = 513151.88679245283\n",
      "EVENTS = 253542.22222222222\n",
      "MEDICAL = 120550.61980830671\n"
     ]
    }
   ],
   "source": [
    "categories_android = freq_table(free_english_android, 1)\n",
    "table = []\n",
    "for category in categories_android:\n",
    "    total = 0\n",
    "    len_category = 0\n",
    "    for app in free_english_android:\n",
    "        category_app = app[1]\n",
    "        if category_app == category:            \n",
    "            n_installs = app[5]\n",
    "            n_installs = n_installs.replace(',', '')\n",
    "            n_installs = n_installs.replace('+', '')\n",
    "            total += float(n_installs)\n",
    "            len_category += 1\n",
    "    avg_n_installs = total / len_category\n",
    "    table.append((avg_n_installs, category))\n",
    "sorted_table = sorted(table, reverse = True)\n",
    "for i in sorted_table:\n",
    "    print(i[1], '=', i[0])"
   ]
  },
  {
   "cell_type": "markdown",
   "metadata": {},
   "source": [
    "<div style='text-align:justify'>\n",
    "On average, communication apps have the most installs: 38,456,119. This number is heavily skewed up by a few apps that have over one billion installs (WhatsApp, Facebook Messenger, Skype, Google Chrome, Gmail, and Hangouts), and a few others with over 100 and 500 million installs:\n",
    "</div>"
   ]
  },
  {
   "cell_type": "code",
   "execution_count": 33,
   "metadata": {},
   "outputs": [
    {
     "name": "stdout",
     "output_type": "stream",
     "text": [
      "WhatsApp Messenger : 1,000,000,000+\n",
      "imo beta free calls and text : 100,000,000+\n",
      "Android Messages : 100,000,000+\n",
      "Google Duo - High Quality Video Calls : 500,000,000+\n",
      "Messenger – Text and Video Chat for Free : 1,000,000,000+\n",
      "imo free video calls and chat : 500,000,000+\n",
      "Skype - free IM & video calls : 1,000,000,000+\n",
      "Who : 100,000,000+\n",
      "GO SMS Pro - Messenger, Free Themes, Emoji : 100,000,000+\n",
      "LINE: Free Calls & Messages : 500,000,000+\n",
      "Google Chrome: Fast & Secure : 1,000,000,000+\n",
      "Firefox Browser fast & private : 100,000,000+\n",
      "UC Browser - Fast Download Private & Secure : 500,000,000+\n",
      "Gmail : 1,000,000,000+\n",
      "Hangouts : 1,000,000,000+\n",
      "Messenger Lite: Free Calls & Messages : 100,000,000+\n",
      "Kik : 100,000,000+\n",
      "KakaoTalk: Free Calls & Text : 100,000,000+\n",
      "Opera Mini - fast web browser : 100,000,000+\n",
      "Opera Browser: Fast and Secure : 100,000,000+\n",
      "Telegram : 100,000,000+\n",
      "Truecaller: Caller ID, SMS spam blocking & Dialer : 100,000,000+\n",
      "UC Browser Mini -Tiny Fast Private & Secure : 100,000,000+\n",
      "Viber Messenger : 500,000,000+\n",
      "WeChat : 100,000,000+\n",
      "Yahoo Mail – Stay Organized : 100,000,000+\n",
      "BBM - Free Calls & Messages : 100,000,000+\n"
     ]
    }
   ],
   "source": [
    "for app in free_english_android:\n",
    "    if app[1] == 'COMMUNICATION' and (app[5] == '1,000,000,000+'\n",
    "                                      or app[5] == '500,000,000+'\n",
    "                                      or app[5] == '100,000,000+'):\n",
    "        print(app[0], ':', app[5])"
   ]
  },
  {
   "cell_type": "markdown",
   "metadata": {},
   "source": [
    "<div style='text-align:justify'>\n",
    "If we removed all the communication apps that have over 100 million installs, the average would be reduced roughly ten times. We see the same pattern for the video players category, which is the runner-up with 24,727,872 installs. The market is dominated by apps like Youtube, Google Play Movies & TV, or MX Player. The pattern is repeated for social apps (where we have giants like Facebook, Instagram, Google+, etc.), photography apps (Google Photos and other popular photo editors), or productivity apps (Microsoft Word, Dropbox, Google Calendar, Evernote, etc.). <br> <br>\n",
    "\n",
    "Again, the main concern is that these app genres might seem more popular than they really are. Moreover, these niches seem to be dominated by a few giants who are hard to compete against.\n",
    "</div>"
   ]
  },
  {
   "cell_type": "code",
   "execution_count": 34,
   "metadata": {},
   "outputs": [
    {
     "name": "stdout",
     "output_type": "stream",
     "text": [
      "E-Book Read - Read Book for free : 50,000+\n",
      "Download free book with green book : 100,000+\n",
      "Wikipedia : 10,000,000+\n",
      "Cool Reader : 10,000,000+\n",
      "Free Panda Radio Music : 100,000+\n",
      "Book store : 1,000,000+\n",
      "FBReader: Favorite Book Reader : 10,000,000+\n",
      "English Grammar Complete Handbook : 500,000+\n",
      "Free Books - Spirit Fanfiction and Stories : 1,000,000+\n",
      "Google Play Books : 1,000,000,000+\n",
      "AlReader -any text book reader : 5,000,000+\n",
      "Offline English Dictionary : 100,000+\n",
      "Offline: English to Tagalog Dictionary : 500,000+\n",
      "FamilySearch Tree : 1,000,000+\n",
      "Cloud of Books : 1,000,000+\n",
      "Recipes of Prophetic Medicine for free : 500,000+\n",
      "ReadEra – free ebook reader : 1,000,000+\n",
      "Anonymous caller detection : 10,000+\n",
      "Ebook Reader : 5,000,000+\n",
      "Litnet - E-books : 100,000+\n",
      "Read books online : 5,000,000+\n",
      "English to Urdu Dictionary : 500,000+\n",
      "eBoox: book reader fb2 epub zip : 1,000,000+\n",
      "English Persian Dictionary : 500,000+\n",
      "Flybook : 500,000+\n",
      "All Maths Formulas : 1,000,000+\n",
      "Ancestry : 5,000,000+\n",
      "HTC Help : 10,000,000+\n",
      "English translation from Bengali : 100,000+\n",
      "Pdf Book Download - Read Pdf Book : 100,000+\n",
      "Free Book Reader : 100,000+\n",
      "eBoox new: Reader for fb2 epub zip books : 50,000+\n",
      "Only 30 days in English, the guideline is guaranteed : 500,000+\n",
      "Moon+ Reader : 10,000,000+\n",
      "SH-02J Owner's Manual (Android 8.0) : 50,000+\n",
      "English-Myanmar Dictionary : 1,000,000+\n",
      "Golden Dictionary (EN-AR) : 1,000,000+\n",
      "All Language Translator Free : 1,000,000+\n",
      "Azpen eReader : 500,000+\n",
      "URBANO V 02 instruction manual : 100,000+\n",
      "Bible : 100,000,000+\n",
      "C Programs and Reference : 50,000+\n",
      "C Offline Tutorial : 1,000+\n",
      "C Programs Handbook : 50,000+\n",
      "Amazon Kindle : 100,000,000+\n",
      "Aab e Hayat Full Novel : 100,000+\n",
      "Aldiko Book Reader : 10,000,000+\n",
      "Google I/O 2018 : 500,000+\n",
      "R Language Reference Guide : 10,000+\n",
      "Learn R Programming Full : 5,000+\n",
      "R Programing Offline Tutorial : 1,000+\n",
      "Guide for R Programming : 5+\n",
      "Learn R Programming : 10+\n",
      "R Quick Reference Big Data : 1,000+\n",
      "V Made : 100,000+\n",
      "Wattpad 📖 Free Books : 100,000,000+\n",
      "Dictionary - WordWeb : 5,000,000+\n",
      "Guide (for X-MEN) : 100,000+\n",
      "AC Air condition Troubleshoot,Repair,Maintenance : 5,000+\n",
      "AE Bulletins : 1,000+\n",
      "Ae Allah na Dai (Rasa) : 10,000+\n",
      "50000 Free eBooks & Free AudioBooks : 5,000,000+\n",
      "Ag PhD Field Guide : 10,000+\n",
      "Ag PhD Deficiencies : 10,000+\n",
      "Ag PhD Planting Population Calculator : 1,000+\n",
      "Ag PhD Soybean Diseases : 1,000+\n",
      "Fertilizer Removal By Crop : 50,000+\n",
      "A-J Media Vault : 50+\n",
      "Al-Quran (Free) : 10,000,000+\n",
      "Al Quran (Tafsir & by Word) : 500,000+\n",
      "Al Quran Indonesia : 10,000,000+\n",
      "Al'Quran Bahasa Indonesia : 10,000,000+\n",
      "Al Quran Al karim : 1,000,000+\n",
      "Al-Muhaffiz : 50,000+\n",
      "Al Quran : EAlim - Translations & MP3 Offline : 5,000,000+\n",
      "Al-Quran 30 Juz free copies : 500,000+\n",
      "Koran Read &MP3 30 Juz Offline : 1,000,000+\n",
      "Hafizi Quran 15 lines per page : 1,000,000+\n",
      "Quran for Android : 10,000,000+\n",
      "Surah Al-Waqiah : 100,000+\n",
      "Hisnul Al Muslim - Hisn Invocations & Adhkaar : 100,000+\n",
      "Satellite AR : 1,000,000+\n",
      "Audiobooks from Audible : 100,000,000+\n",
      "Kinot & Eichah for Tisha B'Av : 10,000+\n",
      "AW Tozer Devotionals - Daily : 5,000+\n",
      "Tozer Devotional -Series 1 : 1,000+\n",
      "The Pursuit of God : 1,000+\n",
      "AY Sing : 5,000+\n",
      "Ay Hasnain k Nana Milad Naat : 10,000+\n",
      "Ay Mohabbat Teri Khatir Novel : 10,000+\n",
      "Arizona Statutes, ARS (AZ Law) : 1,000+\n",
      "Oxford A-Z of English Usage : 1,000,000+\n",
      "BD Fishpedia : 1,000+\n",
      "BD All Sim Offer : 10,000+\n",
      "Youboox - Livres, BD et magazines : 500,000+\n",
      "B&H Kids AR : 10,000+\n",
      "B y H Niños ES : 5,000+\n",
      "Dictionary.com: Find Definitions for English Words : 10,000,000+\n",
      "English Dictionary - Offline : 10,000,000+\n",
      "Bible KJV : 5,000,000+\n",
      "Borneo Bible, BM Bible : 10,000+\n",
      "MOD Black for BM : 100+\n",
      "BM Box : 1,000+\n",
      "Anime Mod for BM : 100+\n",
      "NOOK: Read eBooks & Magazines : 10,000,000+\n",
      "NOOK Audiobooks : 500,000+\n",
      "NOOK App for NOOK Devices : 500,000+\n",
      "Browsery by Barnes & Noble : 5,000+\n",
      "bp e-store : 1,000+\n",
      "Brilliant Quotes: Life, Love, Family & Motivation : 1,000,000+\n",
      "BR Ambedkar Biography & Quotes : 10,000+\n",
      "BU Alsace : 100+\n",
      "Catholic La Bu Zo Kam : 500+\n",
      "Khrifa Hla Bu (Solfa) : 10+\n",
      "Kristian Hla Bu : 10,000+\n",
      "SA HLA BU : 1,000+\n",
      "Learn SAP BW : 500+\n",
      "Learn SAP BW on HANA : 500+\n",
      "CA Laws 2018 (California Laws and Codes) : 5,000+\n",
      "Bootable Methods(USB-CD-DVD) : 10,000+\n",
      "cloudLibrary : 100,000+\n",
      "SDA Collegiate Quarterly : 500+\n",
      "Sabbath School : 100,000+\n",
      "Cypress College Library : 100+\n",
      "Stats Royale for Clash Royale : 1,000,000+\n",
      "GATE 21 years CS Papers(2011-2018 Solved) : 50+\n",
      "Learn CT Scan Of Head : 5,000+\n",
      "Easy Cv maker 2018 : 10,000+\n",
      "How to Write CV : 100,000+\n",
      "CW Nuclear : 1,000+\n",
      "CY Spray nozzle : 10+\n",
      "BibleRead En Cy Zh Yue : 5+\n",
      "CZ-Help : 5+\n",
      "Modlitební knížka CZ : 500+\n",
      "Guide for DB Xenoverse : 10,000+\n",
      "Guide for DB Xenoverse 2 : 10,000+\n",
      "Guide for IMS DB : 10+\n",
      "DC HSEMA : 5,000+\n",
      "DC Public Library : 1,000+\n",
      "Painting Lulu DC Super Friends : 1,000+\n",
      "Dictionary : 10,000,000+\n",
      "Fix Error Google Playstore : 1,000+\n",
      "D. H. Lawrence Poems FREE : 1,000+\n",
      "Bilingual Dictionary Audio App : 5,000+\n",
      "DM Screen : 10,000+\n",
      "wikiHow: how to do anything : 1,000,000+\n",
      "Dr. Doug's Tips : 1,000+\n",
      "Bible du Semeur-BDS (French) : 50,000+\n",
      "La citadelle du musulman : 50,000+\n",
      "DV 2019 Entry Guide : 10,000+\n",
      "DV 2019 - EDV Photo & Form : 50,000+\n",
      "DV 2018 Winners Guide : 1,000+\n",
      "EB Annual Meetings : 1,000+\n",
      "EC - AP & Telangana : 5,000+\n",
      "TN Patta Citta & EC : 10,000+\n",
      "AP Stamps and Registration : 10,000+\n",
      "CompactiMa EC pH Calibration : 100+\n",
      "EGW Writings 2 : 100,000+\n",
      "EGW Writings : 1,000,000+\n",
      "Bible with EGW Comments : 100,000+\n",
      "My Little Pony AR Guide : 1,000,000+\n",
      "SDA Sabbath School Quarterly : 500,000+\n",
      "Duaa Ek Ibaadat : 5,000+\n",
      "Spanish English Translator : 10,000,000+\n",
      "Dictionary - Merriam-Webster : 10,000,000+\n",
      "JW Library : 10,000,000+\n",
      "Oxford Dictionary of English : Free : 10,000,000+\n",
      "English Hindi Dictionary : 10,000,000+\n",
      "English to Hindi Dictionary : 5,000,000+\n",
      "EP Research Service : 1,000+\n",
      "Hymnes et Louanges : 100,000+\n",
      "EU Charter : 1,000+\n",
      "EU Data Protection : 1,000+\n",
      "EU IP Codes : 100+\n",
      "EW PDF : 5+\n",
      "BakaReader EX : 100,000+\n",
      "EZ Quran : 50,000+\n",
      "FA Part 1 & 2 Past Papers Solved Free – Offline : 5,000+\n",
      "La Fe de Jesus : 1,000+\n",
      "La Fe de Jesús : 500+\n",
      "Le Fe de Jesus : 500+\n",
      "Florida - Pocket Brainbook : 1,000+\n",
      "Florida Statutes (FL Code) : 1,000+\n",
      "English To Shona Dictionary : 10,000+\n",
      "Greek Bible FP (Audio) : 1,000+\n",
      "Golden Dictionary (FR-AR) : 500,000+\n",
      "Fanfic-FR : 5,000+\n",
      "Bulgarian French Dictionary Fr : 10,000+\n",
      "Chemin (fr) : 1,000+\n",
      "The SCP Foundation DB fr nn5n : 1,000+\n"
     ]
    }
   ],
   "source": [
    "for app in free_english_android:\n",
    "    if app[1] == 'BOOKS_AND_REFERENCE':\n",
    "        print(app[0], ':', app[5])"
   ]
  },
  {
   "cell_type": "markdown",
   "metadata": {},
   "source": [
    "<div style = 'text-align:justify'>\n",
    "The book and reference genre includes a variety of apps: software for processing and reading ebooks, various collections of libraries, dictionaries, tutorials on programming or languages, etc. It seems there's still a small number of extremely popular apps that skew the average:\n",
    "</div>"
   ]
  },
  {
   "cell_type": "markdown",
   "metadata": {},
   "source": [
    "## Conclusion\n",
    "-------\n",
    "<div style = 'text-align:justify'>\n",
    "In this project, we analyzed data about the App Store and Google Play mobile apps with the goal of recommending an app profile that can be profitable for both markets. <br> <br>\n",
    "\n",
    "***I conclude that book and knowledge niche for our app could be profitable for both Google Play and App Store market.*** The markets are already full of libraries, so we need to add some special features besides the raw version of the book. This might include daily quotes from the book, an audio version of the book, quizzes on the book, a forum where people can discuss the book, etc.\n",
    "</div>"
   ]
  }
 ],
 "metadata": {
  "kernelspec": {
   "display_name": "Python 3",
   "language": "python",
   "name": "python3"
  },
  "language_info": {
   "codemirror_mode": {
    "name": "ipython",
    "version": 3
   },
   "file_extension": ".py",
   "mimetype": "text/x-python",
   "name": "python",
   "nbconvert_exporter": "python",
   "pygments_lexer": "ipython3",
   "version": "3.7.4"
  }
 },
 "nbformat": 4,
 "nbformat_minor": 2
}
